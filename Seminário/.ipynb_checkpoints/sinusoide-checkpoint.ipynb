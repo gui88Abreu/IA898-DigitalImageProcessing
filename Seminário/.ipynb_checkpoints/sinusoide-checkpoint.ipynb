{
 "cells": [
  {
   "cell_type": "markdown",
   "metadata": {},
   "source": [
    "# Removendo ruído sal-pimenta de uma sinusoide utilizando filtro de Gabor"
   ]
  },
  {
   "cell_type": "code",
   "execution_count": 5,
   "metadata": {},
   "outputs": [],
   "source": [
    "%matplotlib inline\n",
    "from PIL import Image\n",
    "import matplotlib.pyplot as plt\n",
    "import numpy as np\n",
    "from numpy.fft import fft2, ifft2\n",
    "import sys,os\n",
    "ia898path = os.path.abspath('../../')\n",
    "if ia898path not in sys.path:\n",
    "    sys.path.append(ia898path)\n",
    "import ia898.src as ia\n",
    "\n",
    "import warnings\n",
    "import time\n",
    "from time import clock_gettime as get_time\n",
    "\n",
    "from skimage.filters import gabor_kernel\n",
    "from scipy.signal import convolve"
   ]
  },
  {
   "cell_type": "code",
   "execution_count": null,
   "metadata": {},
   "outputs": [],
   "source": [
    "# produz ruido na matriz\n",
    "def noise(m, num, value = 255):\n",
    "    h,w = m.shape\n",
    "    noised = m.copy()\n",
    "    for i in range(num):\n",
    "        x = np.random.randint(low=0, high=h-1)\n",
    "        y = np.random.randint(low=0, high=w-1)\n",
    "        noised[x,y] = value\n",
    "    return noised"
   ]
  },
  {
   "cell_type": "code",
   "execution_count": null,
   "metadata": {},
   "outputs": [],
   "source": [
    "# cola uma matriz ao lado de outras\n",
    "def glue(m_list):\n",
    "    glued_mtrx = m_list[0]\n",
    "    amount = len(m_list)\n",
    "    for i in range(1,amount):\n",
    "        glued_mtrx = np.concatenate((glued_mtrx, m_list[i]), axis=1)\n",
    "    return glued_mtrx"
   ]
  },
  {
   "cell_type": "markdown",
   "metadata": {},
   "source": [
    "Primeiro criamos uma sinusoide e adicionamos ruído artificialmente a ela."
   ]
  },
  {
   "cell_type": "code",
   "execution_count": 91,
   "metadata": {},
   "outputs": [
    {
     "data": {
      "text/html": [
       "<head><style>        table, th, td { border: 0px solid black;        text-align: center;border-collapse: collapse;}</style></head>        <body><table border=\"0\"><td>            <table><tr><td><img src='data:image/png;base64,iVBORw0KGgoAAAANSUhEUgAAAQAAAACACAAAAADB3ujWAAADEklEQVR4nOXdPY7UMBwFcPslGU+cxAVsQUO/FRUHQUKi5iicho6KE3AIJCQQNUKIIrHjOJ8U86FdFsFKOxOSeQf4K/n52eleLKdp6LvQeOdsVZZlWZZV5VzdhLYfJoEoUSrNsrwojDHGFEWe6VSpOJZiGro2+Lq21X7QVq72Tej6UUjEG7XVOs93c6bIc623ahNDirHvQuNrV+0Hq8o670PbDZOQcaxUqm8+MNepUkkEMQ19G5r6+sPxTa2tfRPaYRAiihO1TbOsOA5mmd6qTRxJMQ5dCN45e+OBtW/avp+EHNfmd/akfpD7I5D7E5D7NyD3K5D7U5D7Ncj9Gcj9Gcj9Bcj9Bcj9BuT+3QIQ+w3I/QbkfgNyvwG5vwC5Pwe5P8Oi/dfn8r89+LV8umD/7fw/X50+f62xGr8/g/+ZVtKsxX+G86+1UiD3JyD3x1Jy+yEFt1+A3D+B3D+y+3uQ+1uQ+wPI/Q3I/TXI/TXI/Rbn8r9eh9/KF9T52wrk/hLk/t0CEPtLkPtLkPtLkPtLkPsrkPstyP0W9/FPl+t3uE/+uFy/x+n2/8s1+hv58+H+x19Wm38TpOP9/jnfhBbk/l4O3P4B5H4Bcr8Aux/k/hjk/gTkfgVy/xbk/hTkfg1yfw5yfw5y/7E4yeo/FCdp/fviJK9/twDEfgNyvwG534DcX4DcX4Dcn4Pcn4Hcr0Hu34Lcr0Du34Dcn0hw+yMpyP1YoP/RnPnjjv/V//aHrzP6JxktLf9Zz//UL27/3/V/O6e/x+L9jT6R/92f/EFeLd1/1vxDALnfg9xfg9zvQO63MZ9fjzf8h97g3/3vL8mf3PJXuE/+zy/JH93yH4qTNPv/d/++OMnr3xUnif0lyP0lluf/OKe/xOL89ZM5/RaL88+av62wev+bB/md/LRy/8PydzXI/R7k/gbk/hbk/g7k/gH/9teX7B/lSJ3/KEDulyD37y9c5PXHWOb//2fzb+SPWfK//r5Qv8I8+3+x/hTM53+j0hTk/gzk/hzk/mNxktV/KE7S+o8XLrL6Dxcu0vrNLwC7lENw3mRbAAAAAElFTkSuQmCC'/></td></tr>            <tr><td align='center'></td></tr></table></td><tr></tr></table></body>"
      ],
      "text/plain": [
       "<IPython.core.display.HTML object>"
      ]
     },
     "metadata": {},
     "output_type": "display_data"
    }
   ],
   "source": [
    "H = 128\n",
    "W = 256\n",
    "s = (H,W)\n",
    "T = 40\n",
    "theta = 45 * np.pi/180\n",
    "f = ia.cos(s, T, theta, 0)\n",
    "f = noise(ia.normalize(f, [0,255]), num= 20, value=255)\n",
    "ia.adshow(f)"
   ]
  },
  {
   "cell_type": "markdown",
   "metadata": {},
   "source": [
    "Agora aplicamos o filtro na imagem."
   ]
  },
  {
   "cell_type": "code",
   "execution_count": 93,
   "metadata": {},
   "outputs": [
    {
     "data": {
      "text/html": [
       "<head><style>        table, th, td { border: 0px solid black;        text-align: center;border-collapse: collapse;}</style></head>        <body><table border=\"0\"><td>            <table><tr><td><img src='data:image/png;base64,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'/></td></tr>            <tr><td align='center'></td></tr></table></td><tr></tr></table></body>"
      ],
      "text/plain": [
       "<IPython.core.display.HTML object>"
      ]
     },
     "metadata": {},
     "output_type": "display_data"
    }
   ],
   "source": [
    "frequency = 1/T\n",
    "sigma = 2\n",
    "gabor_filter = np.real(gabor_kernel(frequency, theta=theta, sigma_x=sigma, sigma_y=sigma))\n",
    "mtrx_resp = convolve(in1=f, in2=gabor_filter, method=\"auto\", mode=\"same\")\n",
    "ia.adshow(ia.normalize(mtrx_resp, [0,255]))"
   ]
  },
  {
   "cell_type": "markdown",
   "metadata": {},
   "source": [
    "Repare que é essencial sabermos a frequência da imagem que queremos melhorar, pois do contrário obteremos uma matriz de resposta indesejada."
   ]
  },
  {
   "cell_type": "code",
   "execution_count": 94,
   "metadata": {},
   "outputs": [
    {
     "data": {
      "text/html": [
       "<head><style>        table, th, td { border: 0px solid black;        text-align: center;border-collapse: collapse;}</style></head>        <body><table border=\"0\"><td>            <table><tr><td><img src='data:image/png;base64,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'/></td></tr>            <tr><td align='center'></td></tr></table></td><tr></tr></table></body>"
      ],
      "text/plain": [
       "<IPython.core.display.HTML object>"
      ]
     },
     "metadata": {},
     "output_type": "display_data"
    }
   ],
   "source": [
    "frequency = 1/T + 0.1\n",
    "sigma = 3\n",
    "gabor_filter = np.real(gabor_kernel(frequency, theta=theta, sigma_x=sigma, sigma_y=sigma))\n",
    "mtrx_resp = convolve(in1=f, in2=gabor_filter, method=\"auto\", mode=\"same\")\n",
    "ia.adshow(ia.normalize(mtrx_resp, [0,255]))"
   ]
  }
 ],
 "metadata": {
  "kernelspec": {
   "display_name": "Python 3",
   "language": "python",
   "name": "python3"
  },
  "language_info": {
   "codemirror_mode": {
    "name": "ipython",
    "version": 3
   },
   "file_extension": ".py",
   "mimetype": "text/x-python",
   "name": "python",
   "nbconvert_exporter": "python",
   "pygments_lexer": "ipython3",
   "version": "3.6.5"
  }
 },
 "nbformat": 4,
 "nbformat_minor": 2
}
