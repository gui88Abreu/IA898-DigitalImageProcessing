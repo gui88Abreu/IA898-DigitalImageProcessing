{
 "cells": [
  {
   "cell_type": "markdown",
   "metadata": {
    "deletable": true,
    "editable": true
   },
   "source": [
    "# Principal Component Analysis (PCA)"
   ]
  },
  {
   "cell_type": "markdown",
   "metadata": {
    "deletable": true,
    "editable": true
   },
   "source": [
    "The function **pca** computes the principal components transformation matriz of a given data set.\n",
    "The input is the data set organized as one row per sample e columns with attributes of each sample.\n",
    "The output are three: the eigenvector matriz, the diagonal of the covariance matriz and the sample mean."
   ]
  },
  {
   "cell_type": "markdown",
   "metadata": {
    "deletable": true,
    "editable": true
   },
   "source": [
    "## Function definition"
   ]
  },
  {
   "cell_type": "code",
   "execution_count": 11,
   "metadata": {
    "ExecuteTime": {
     "end_time": "2017-06-08T10:19:15.209381",
     "start_time": "2017-06-08T10:19:15.187233"
    },
    "collapsed": true,
    "deletable": true,
    "editable": true
   },
   "outputs": [],
   "source": [
    "import numpy as np\n",
    "\n",
    "def pca(X):\n",
    "    '''\n",
    "    features are in the columns\n",
    "    samples are in the rows\n",
    "    '''\n",
    "    n, dim = X.shape\n",
    "    mu = X.mean(axis=0)\n",
    "    Xc = X - mu                    # 0 mean\n",
    "\n",
    "    C = (Xc.T).dot(Xc)/(n-1)        # Covariance matrix\n",
    "    e,V = np.linalg.eigh(C)       # eigenvalues and eigenvectors of the covariance matrix        \n",
    "    indexes = np.argsort(e)[::-1] # sorting eigenvalues from largest  \n",
    "    e  = e [indexes]              # update e and V\n",
    "    V = V[:,indexes]\n",
    "    return V,e,mu       "
   ]
  },
  {
   "cell_type": "markdown",
   "metadata": {
    "deletable": true,
    "editable": true
   },
   "source": [
    "## Example -  Bidimensional Gaussian distribution"
   ]
  },
  {
   "cell_type": "code",
   "execution_count": 1,
   "metadata": {
    "ExecuteTime": {
     "end_time": "2017-07-02T22:35:31.270078",
     "start_time": "2017-07-02T22:35:27.755608"
    },
    "collapsed": false,
    "deletable": true,
    "editable": true
   },
   "outputs": [
    {
     "name": "stdout",
     "output_type": "stream",
     "text": [
      "[NbConvertApp] Converting notebook pca.ipynb to python\n",
      "[NbConvertApp] Writing 5868 bytes to pca.py\n"
     ]
    }
   ],
   "source": [
    "testing = (__name__ == \"__main__\")\n",
    "\n",
    "if testing:\n",
    "    ! jupyter nbconvert --to python pca.ipynb\n",
    "    import numpy as np\n",
    "    import sys,os\n",
    "    %matplotlib inline\n",
    "    import matplotlib.image as mpimg\n",
    "    import matplotlib.pyplot as plt\n",
    "    ia898path = os.path.abspath('../../')\n",
    "    if ia898path not in sys.path:\n",
    "        sys.path.append(ia898path)\n",
    "    import ia898.src as ia"
   ]
  },
  {
   "cell_type": "markdown",
   "metadata": {
    "deletable": true,
    "editable": true
   },
   "source": [
    "### Creating the data: "
   ]
  },
  {
   "cell_type": "markdown",
   "metadata": {
    "deletable": true,
    "editable": true
   },
   "source": [
    "A matrix of 50 samples of (x,y) coordinates is created. The samples are\n",
    "generated from a Gaussian distribution rotated by 60 degrees.\n",
    "        "
   ]
  },
  {
   "cell_type": "code",
   "execution_count": 2,
   "metadata": {
    "ExecuteTime": {
     "end_time": "2017-07-02T22:35:33.050197",
     "start_time": "2017-07-02T22:35:32.953629"
    },
    "collapsed": false,
    "deletable": true,
    "editable": true
   },
   "outputs": [
    {
     "name": "stdout",
     "output_type": "stream",
     "text": [
      "(50, 2)\n",
      "[[ 1.5261568   3.31691262]\n",
      " [ 1.2872129   3.49534112]\n",
      " [ 1.53137538  4.08481502]\n",
      " [ 1.52401676  3.48876159]\n",
      " [ 1.02984646  3.41007554]]\n"
     ]
    }
   ],
   "source": [
    "if testing:\n",
    "    np.random.seed(58)\n",
    "    mean = [1,3]\n",
    "    cov = np.array([\n",
    "          [ 0.14,     0.2078461],\n",
    "          [ 0.2078461,0.38     ]\n",
    "          ])\n",
    "    X = np.random.multivariate_normal(mean,cov,50)\n",
    "    print(X.shape)\n",
    "    print(X[:5,:])"
   ]
  },
  {
   "cell_type": "code",
   "execution_count": 3,
   "metadata": {
    "ExecuteTime": {
     "end_time": "2017-07-02T22:35:33.798946",
     "start_time": "2017-07-02T22:35:33.781847"
    },
    "collapsed": false,
    "deletable": true,
    "editable": true
   },
   "outputs": [
    {
     "name": "stdout",
     "output_type": "stream",
     "text": [
      "Xm:\n",
      " [ 1.01542111  3.10580114]\n",
      "Cr == Crr?: True\n",
      "Cr:\n",
      " [[ 0.14738154  0.20459564]\n",
      " [ 0.20459564  0.33920584]]\n"
     ]
    }
   ],
   "source": [
    "if testing:\n",
    "    Xm = X.mean(axis=0)\n",
    "    Cr = ((X-Xm).T).dot(X-Xm)/(X.shape[0]-1)  # Covariance matrix (explicit)\n",
    "    Crr= np.cov(X,rowvar=False)               # Covariance matrix (NumPy)\n",
    "    print('Xm:\\n',Xm)\n",
    "    print('Cr == Crr?:',np.allclose(Cr,Crr))\n",
    "    print('Cr:\\n',Crr)"
   ]
  },
  {
   "cell_type": "code",
   "execution_count": 4,
   "metadata": {
    "ExecuteTime": {
     "end_time": "2017-07-02T22:35:34.799825",
     "start_time": "2017-07-02T22:35:34.560188"
    },
    "collapsed": false,
    "deletable": true,
    "editable": true
   },
   "outputs": [
    {
     "data": {
      "image/png": "[encoded data removed]",
      "text/plain": [
       "<matplotlib.figure.Figure at 0x110f3d438>"
      ]
     },
     "metadata": {},
     "output_type": "display_data"
    }
   ],
   "source": [
    "if testing:    \n",
    "    plt.scatter(X[:,0],X[:,1], c='r', marker='x')\n",
    "    plt.axis('equal')\n",
    "    plt.title('Gaussian distribution')\n",
    "    plt.show()"
   ]
  },
  {
   "cell_type": "markdown",
   "metadata": {
    "deletable": true,
    "editable": true
   },
   "source": [
    "## Computing the matrix transformation"
   ]
  },
  {
   "cell_type": "code",
   "execution_count": 5,
   "metadata": {
    "ExecuteTime": {
     "end_time": "2017-07-02T22:35:36.900287",
     "start_time": "2017-07-02T22:35:36.487822"
    },
    "collapsed": false,
    "deletable": true,
    "editable": true
   },
   "outputs": [
    {
     "data": {
      "image/png": "[encoded data removed]",
      "text/plain": [
       "<matplotlib.figure.Figure at 0x1146b6eb8>"
      ]
     },
     "metadata": {},
     "output_type": "display_data"
    }
   ],
   "source": [
    "if testing:\n",
    "    V,e,mu_X = ia.pca(X)\n",
    "    sigma = np.sqrt(e) \n",
    "    \n",
    "    # Plotando os dados e seus autovetores no sistema de coordenadas original\n",
    "    arrowlist = [[mu_X[0], mu_X[1], sigma[0]*V[0,0], sigma[0]*V[1,0]],\n",
    "                 [mu_X[0], mu_X[1], sigma[1]*V[0,1], sigma[1]*V[1,1]]]\n",
    "              \n",
    "    plt.scatter(X[:,0],X[:,1],\n",
    "                     c = 'r',\n",
    "                     marker = 'x')\n",
    "    for arrow in arrowlist:\n",
    "        plt.arrow(*arrow,head_width=0.05, head_length=0.1, fc='k', ec='k') \n",
    "\n",
    "    plt.axis('equal')\n",
    "    plt.title('eigenvectors plotted')\n",
    "    plt.show()\n",
    "    "
   ]
  },
  {
   "cell_type": "code",
   "execution_count": 6,
   "metadata": {
    "ExecuteTime": {
     "end_time": "2017-07-02T22:35:40.004381",
     "start_time": "2017-07-02T22:35:39.985714"
    },
    "collapsed": false,
    "deletable": true,
    "editable": true
   },
   "outputs": [
    {
     "name": "stdout",
     "output_type": "stream",
     "text": [
      "V:\n",
      " [[ 0.53644073 -0.843938  ]\n",
      " [ 0.843938    0.53644073]]\n",
      "e:\n",
      " [ 0.46925501  0.01733237]\n",
      "sigma:\n",
      " [ 0.68502191  0.13165248]\n",
      "mu_X\n",
      " [ 1.01542111  3.10580114]\n",
      "sigma**2 [ 0.46925501  0.01733237]\n",
      "Cr:\n",
      " [[  4.69255012e-01   1.88760226e-17]\n",
      " [  1.88760226e-17   1.73323749e-02]]\n"
     ]
    }
   ],
   "source": [
    "if testing:\n",
    "    print('V:\\n',V)\n",
    "    print('e:\\n',e)\n",
    "    print('sigma:\\n',sigma)\n",
    "    print('mu_X\\n',mu_X)\n",
    "    \n",
    "    Xr = (X - mu_X).dot(V)               # Transforming X\n",
    "    \n",
    "    Cr= np.cov(Xr,rowvar=False)         # Covariance matrix (NumPy)\n",
    "    \n",
    "    print('sigma**2', sigma**2)\n",
    "    print('Cr:\\n', Cr) \n",
    "    "
   ]
  },
  {
   "cell_type": "code",
   "execution_count": 8,
   "metadata": {
    "ExecuteTime": {
     "end_time": "2017-07-02T22:35:47.706217",
     "start_time": "2017-07-02T22:35:47.426076"
    },
    "collapsed": false,
    "deletable": true,
    "editable": true
   },
   "outputs": [
    {
     "data": {
      "image/png": "[encoded data removed]",
      "text/plain": [
       "<matplotlib.figure.Figure at 0x11485fb70>"
      ]
     },
     "metadata": {},
     "output_type": "display_data"
    }
   ],
   "source": [
    "if testing:\n",
    "    Vr, e_r, mu_Xr = ia.pca(Xr)\n",
    "    sigma_r = np.sqrt(e_r) \n",
    "    \n",
    "    # Plotando os dados e seus autovetores no sistema de coordenadas original\n",
    "    arrowlist = [[mu_Xr[0], mu_Xr[1], sigma_r[0]*Vr[0,0], sigma_r[0]*Vr[1,0]],\n",
    "                 [mu_Xr[0], mu_Xr[1], sigma_r[1]*Vr[0,1], sigma_r[1]*Vr[1,1]]]\n",
    "              \n",
    "    plt.scatter(Xr[:,0],Xr[:,1],\n",
    "                     c = 'r',\n",
    "                     marker = 'x')\n",
    "    for arrow in arrowlist:\n",
    "        plt.arrow(*arrow,head_width=0.05, head_length=0.1, fc='k', ec='k') \n",
    "\n",
    "    plt.axis('equal')\n",
    "    plt.title('Transformed distribution with eigenvectors')\n",
    "    plt.show()\n",
    "    \n"
   ]
  },
  {
   "cell_type": "markdown",
   "metadata": {
    "deletable": true,
    "editable": true
   },
   "source": [
    "## Method"
   ]
  },
  {
   "cell_type": "markdown",
   "metadata": {
    "deletable": true,
    "editable": true
   },
   "source": [
    "1. Build matrix $X_{(n \\times m)}$, where n (rows) gives the number of samples and m (columns) gives the number of attributes.\n",
    "   m gives the dimensionality of the problem:\n",
    "\n",
    "$$   X = \\begin{bmatrix} X_{11} & \\cdots & X_{1m} \\\\\n",
    "   \\vdots & \\ddots & \\vdots \\\\\n",
    "   X_{n1} & \\cdots & X_{nm} \\\\\n",
    "   \\end{bmatrix}\n",
    "$$ "
   ]
  },
  {
   "cell_type": "markdown",
   "metadata": {
    "deletable": true,
    "editable": true
   },
   "source": [
    "2. Compute the mean values of every attributes of all samples:\n",
    "\n",
    "$$   \\overline{X} = \\frac{1}{n} \\begin{bmatrix}  \\sum_{i = 1}^n X_{i1} &  \\sum_{i = 1}^n X_{i2}  & \\cdots & \n",
    "   \\sum_{i = 1}^n X_{im} \\end{bmatrix}\n",
    "$$"
   ]
  },
  {
   "cell_type": "markdown",
   "metadata": {
    "deletable": true,
    "editable": true
   },
   "source": [
    "3. Compute the covariance matrix:    \n",
    "\n",
    "$$\n",
    "   C = \\frac{1}{n-1}(X - \\overline{X})^T(X - \\overline{X})\n",
    "$$"
   ]
  },
  {
   "cell_type": "markdown",
   "metadata": {
    "deletable": true,
    "editable": true
   },
   "source": [
    "4. Compute the eigenvalues ($e_i$) and the eigenvectors ($V_i$) which diagonalizes the covariance matrix ($\\Sigma$):\n",
    "\n",
    "$$\n",
    "   \\text{ Eigen values } = |C - eI|  = 0 \\\\\n",
    "   \\text{ Eigen vectors } = C V_i = e_i V_i\n",
    "$$ "
   ]
  },
  {
   "cell_type": "markdown",
   "metadata": {
    "deletable": true,
    "editable": true
   },
   "source": [
    "5. The transformation matrix (V) of the PCA is built as following: the first column is the eigenvector related to the largest eigenvalue,\n",
    "   the second column with the eigenvector related to the second largest eigenvalue and so."
   ]
  },
  {
   "cell_type": "markdown",
   "metadata": {
    "deletable": true,
    "editable": true
   },
   "source": [
    "The data transformation to the new coordinates system is given by:\n",
    "\n",
    "$$   X_{new} = (X - \\overline{X}) V $$\n",
    "\n",
    "The eigenvalues $e_i$ give the variance of the data projected in the new coordinates system. \n",
    "To compute the variance percentage related to each eigenvector direction of the transformed coordinates system, \n",
    "divide the corresponding eigenvalue by the sum of all eigenvalues:"
   ]
  },
  {
   "cell_type": "markdown",
   "metadata": {
    "deletable": true,
    "editable": true
   },
   "source": [
    "$$   Var\\%(e_j) = \\frac{e_j}{\\sum_{i=1}^m e_i}  $$\n",
    " \n",
    "    "
   ]
  },
  {
   "cell_type": "markdown",
   "metadata": {
    "deletable": true,
    "editable": true
   },
   "source": [
    "## References"
   ]
  },
  {
   "cell_type": "markdown",
   "metadata": {
    "deletable": true,
    "editable": true
   },
   "source": [
    "- [PCA - Wikipedia](http://en.wikipedia.org/wiki/Principal_component_analysis)\n",
    "- [Karhunen-Loeve theorem](https://en.wikipedia.org/wiki/Karhunen%E2%80%93Lo%C3%A8ve_theorem)\n",
    "- [Eigen decomposition of a matrix - Wikipedia](http://en.wikipedia.org/wiki/Eigendecomposition_of_a_matrix)"
   ]
  },
  {
   "cell_type": "markdown",
   "metadata": {
    "deletable": true,
    "editable": true
   },
   "source": [
    "## Contributions\n",
    "\n",
    "- Roberto Medeiros de Souza, Sept 2013"
   ]
  },
  {
   "cell_type": "code",
   "execution_count": null,
   "metadata": {
    "collapsed": true,
    "deletable": true,
    "editable": true
   },
   "outputs": [],
   "source": []
  }
 ],
 "metadata": {
  "kernelspec": {
   "display_name": "Python 3",
   "language": "python",
   "name": "python3"
  },
  "language_info": {
   "codemirror_mode": {
    "name": "ipython",
    "version": 3
   },
   "file_extension": ".py",
   "mimetype": "text/x-python",
   "name": "python",
   "nbconvert_exporter": "python",
   "pygments_lexer": "ipython3",
   "version": "3.6.0"
  },
  "toc": {
   "colors": {
    "hover_highlight": "#DAA520",
    "running_highlight": "#FF0000",
    "selected_highlight": "#FFD700"
   },
   "moveMenuLeft": true,
   "nav_menu": {
    "height": "159px",
    "width": "252px"
   },
   "navigate_menu": true,
   "number_sections": true,
   "sideBar": true,
   "threshold": 4,
   "toc_cell": false,
   "toc_section_display": "block",
   "toc_window_display": false
  }
 },
 "nbformat": 4,
 "nbformat_minor": 2
}
