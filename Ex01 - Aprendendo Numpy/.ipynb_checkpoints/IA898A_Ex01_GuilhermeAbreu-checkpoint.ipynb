{
 "cells": [
  {
   "cell_type": "markdown",
   "metadata": {},
   "source": [
    "# Aprendendo Numpy\n",
    "\n",
    "O propósito desse jupyter notebook é praticar e testar as ferramentas fornecidas pela biblioteca **numpy**, além de promover uma familiarização com o ambiente **jupyter notebook**."
   ]
  },
  {
   "cell_type": "markdown",
   "metadata": {},
   "source": [
    "### Importando bibliotecas"
   ]
  },
  {
   "cell_type": "code",
   "execution_count": 130,
   "metadata": {},
   "outputs": [],
   "source": [
    "import numpy as np\n",
    "import matplotlib.pyplot as plt #necessario para esbocar as imagens geradas\n",
    "import png #necessario para salvar imagem no formato png"
   ]
  },
  {
   "cell_type": "markdown",
   "metadata": {},
   "source": [
    "### Criando Matrizes"
   ]
  },
  {
   "cell_type": "code",
   "execution_count": 131,
   "metadata": {},
   "outputs": [
    {
     "data": {
      "text/plain": [
       "array([[ 0,  1,  2,  3,  4],\n",
       "       [ 5,  6,  7,  8,  9],\n",
       "       [10, 11, 12, 13, 14],\n",
       "       [15, 16, 17, 18, 19],\n",
       "       [20, 21, 22, 23, 24]])"
      ]
     },
     "execution_count": 131,
     "metadata": {},
     "output_type": "execute_result"
    }
   ],
   "source": [
    "array1 = np.arange(0,25).reshape(5,5)\n",
    "array1"
   ]
  },
  {
   "cell_type": "code",
   "execution_count": 132,
   "metadata": {},
   "outputs": [
    {
     "data": {
      "text/plain": [
       "array([2.  , 2.75, 3.5 , 4.25, 5.  ])"
      ]
     },
     "execution_count": 132,
     "metadata": {},
     "output_type": "execute_result"
    }
   ],
   "source": [
    "array1 = np.linspace(2,5,num=5).round(2) #retorna uma matriz linear de 5 elementos espacados entre 2 e 5\n",
    "array1"
   ]
  },
  {
   "cell_type": "code",
   "execution_count": 133,
   "metadata": {},
   "outputs": [
    {
     "data": {
      "text/plain": [
       "array([[9., 9., 9.],\n",
       "       [9., 9., 9.],\n",
       "       [9., 9., 9.]])"
      ]
     },
     "execution_count": 133,
     "metadata": {},
     "output_type": "execute_result"
    }
   ],
   "source": [
    "array1 = np.ones((3,3))*9\n",
    "array1"
   ]
  },
  {
   "cell_type": "code",
   "execution_count": 134,
   "metadata": {},
   "outputs": [
    {
     "data": {
      "text/plain": [
       "array([[9., 9., 9.],\n",
       "       [9., 9., 9.],\n",
       "       [9., 9., 9.]])"
      ]
     },
     "execution_count": 134,
     "metadata": {},
     "output_type": "execute_result"
    }
   ],
   "source": [
    "array1 = np.zeros((3,3))+9\n",
    "array1"
   ]
  },
  {
   "cell_type": "markdown",
   "metadata": {},
   "source": [
    "### Multiplicando matrizes"
   ]
  },
  {
   "cell_type": "code",
   "execution_count": 135,
   "metadata": {},
   "outputs": [
    {
     "data": {
      "text/plain": [
       "array([[9., 9., 9.],\n",
       "       [9., 9., 9.],\n",
       "       [9., 9., 9.]])"
      ]
     },
     "execution_count": 135,
     "metadata": {},
     "output_type": "execute_result"
    }
   ],
   "source": [
    "array2 = np.identity(3) #matriz identidade\n",
    "np.dot(array1,array2)"
   ]
  },
  {
   "cell_type": "code",
   "execution_count": 136,
   "metadata": {},
   "outputs": [
    {
     "data": {
      "text/plain": [
       "array([[54., 54.],\n",
       "       [54., 54.],\n",
       "       [54., 54.]])"
      ]
     },
     "execution_count": 136,
     "metadata": {},
     "output_type": "execute_result"
    }
   ],
   "source": [
    "array2 = np.ones((3,2))*2\n",
    "np.dot(array1, array2) #aplica a multiplicacao matricial ARRAY x ARRAY"
   ]
  },
  {
   "cell_type": "markdown",
   "metadata": {},
   "source": [
    "### Somando Matrizes"
   ]
  },
  {
   "cell_type": "code",
   "execution_count": 137,
   "metadata": {},
   "outputs": [
    {
     "data": {
      "text/plain": [
       "array([[12., 12., 12.],\n",
       "       [12., 12., 12.],\n",
       "       [12., 12., 12.]])"
      ]
     },
     "execution_count": 137,
     "metadata": {},
     "output_type": "execute_result"
    }
   ],
   "source": [
    "array1 + np.ones((3,3))*3"
   ]
  },
  {
   "cell_type": "markdown",
   "metadata": {},
   "source": [
    "### Colon operator"
   ]
  },
  {
   "cell_type": "code",
   "execution_count": 138,
   "metadata": {},
   "outputs": [
    {
     "data": {
      "text/plain": [
       "array([[ 0,  2,  4],\n",
       "       [ 5,  7,  9],\n",
       "       [10, 12, 14],\n",
       "       [15, 17, 19],\n",
       "       [20, 22, 24]])"
      ]
     },
     "execution_count": 138,
     "metadata": {},
     "output_type": "execute_result"
    }
   ],
   "source": [
    "array1 = np.arange(0,25).reshape(5,5)\n",
    "array1[:, 0::2] #imprime todas as linhas sem imprimir as colunas pares\n",
    "#array1 = np.arange(0,25).reshape(5,5)"
   ]
  },
  {
   "cell_type": "code",
   "execution_count": 139,
   "metadata": {},
   "outputs": [
    {
     "data": {
      "text/plain": [
       "array([[21, 23],\n",
       "       [16, 18],\n",
       "       [11, 13],\n",
       "       [ 6,  8],\n",
       "       [ 1,  3]])"
      ]
     },
     "execution_count": 139,
     "metadata": {},
     "output_type": "execute_result"
    }
   ],
   "source": [
    "array1[-1::-1, 1::2] #imprime todas as linhas no modo descendente sem imprimir as colunas impares"
   ]
  },
  {
   "cell_type": "markdown",
   "metadata": {},
   "source": [
    "# Tabuleiro de Xadrez\n",
    "\n",
    "Para aprimorar as habilidades utilizando **numpy arrays**, foi proposto gerar a imagem de um tabuleiro de xadrez. A minha solução foi gerar um array de 1's e em seguida zerar as posições especificas da matriz para que ela represente o tabuleiro utilizando **colon operator**."
   ]
  },
  {
   "cell_type": "markdown",
   "metadata": {},
   "source": [
    "### Solução para uma Imagem 8x8\n",
    "\n",
    "Abaixo está a solução simplista para uma imagem 8x8."
   ]
  },
  {
   "cell_type": "code",
   "execution_count": 140,
   "metadata": {},
   "outputs": [],
   "source": [
    "height, width = 8, 8\n",
    "\n",
    "gry_scl_img = np.ones((height,width))\n",
    "\n",
    "gry_scl_img[1::2, 0::2] = 0.0\n",
    "gry_scl_img[0::2, 1::2] = 0.0   "
   ]
  },
  {
   "cell_type": "markdown",
   "metadata": {},
   "source": [
    "### Esboço da imagem"
   ]
  },
  {
   "cell_type": "code",
   "execution_count": 141,
   "metadata": {},
   "outputs": [
    {
     "data": {
      "text/plain": [
       "<matplotlib.image.AxesImage at 0x7f481cb326d8>"
      ]
     },
     "execution_count": 141,
     "metadata": {},
     "output_type": "execute_result"
    },
    {
     "data": {
      "image/png": "[encoded data removed]",
      "text/plain": [
       "<Figure size 432x288 with 1 Axes>"
      ]
     },
     "metadata": {},
     "output_type": "display_data"
    }
   ],
   "source": [
    "%matplotlib inline\n",
    "\n",
    "plt.title('Tabuleiro')\n",
    "plt.imshow(gry_scl_img, cmap = 'gray', vmin = 0.0, vmax = 1.0)"
   ]
  },
  {
   "cell_type": "markdown",
   "metadata": {},
   "source": [
    "### Solução para uma imagem NxM\n",
    "\n",
    "Certamente, em sistemas reais, uma imagem terá uma resolução muito maior que **8x8**. Por isso, logo abaixo está a solução que contempla qualquer resolução **NxM**. Obs: em algumas resoluções a imagem ficará distorcida ou com partes imcompletas, por isso, resoluções com multiplicidade 8 são recomendadas."
   ]
  },
  {
   "cell_type": "code",
   "execution_count": 142,
   "metadata": {},
   "outputs": [],
   "source": [
    "height, width = 400, 400 #define altura e largura da imagem\n",
    "\n",
    "gry_scl_img = np.ones((height, width)) #cria matriz de 1's\n",
    "\n",
    "x_rct = height//8 #encontra a altura do retangulo das posicoes do tabuleiro\n",
    "y_rct = width//8 #encontra a larguara do retangulo das posicoes do tabuleiro\n",
    "\n",
    "#preenche de preto os retangulos necessarios\n",
    "for j in range(0,8,2):\n",
    "    for i in range(0,8,2):\n",
    "        gry_scl_img[(i+1)*x_rct:(i+2)*x_rct, (j)*y_rct:(j+1)*y_rct] = 0\n",
    "        gry_scl_img[(j)*x_rct:(j+1)*x_rct, (i+1)*y_rct:(i+2)*y_rct] = 0"
   ]
  },
  {
   "cell_type": "markdown",
   "metadata": {},
   "source": [
    "### Salvando a imagem do tabuleiro\n",
    "\n",
    "Para de fato gerar uma imagem utilizando numpy arrays é necessário gerar um arquivo que possa ser lido como uma imagem. Para isso, a biblioteca png é uma ferramenta muito útil e muito simples de ser utilizada."
   ]
  },
  {
   "cell_type": "code",
   "execution_count": 143,
   "metadata": {},
   "outputs": [],
   "source": [
    "png_image = open('tabuleiro.png', 'wb')\n",
    "w = png.Writer(width = width, height = height, greyscale=True, bitdepth=1)\n",
    "w.write(png_image, gry_scl_img)\n",
    "png_image.close()"
   ]
  },
  {
   "cell_type": "markdown",
   "metadata": {},
   "source": [
    "Para que o código acima possa ser executado é necessário ter instalado em sua máquina o pacote **pypng**. Para instalá-lo, execute o seguinte comando em um terminal: **pip install png**. Apos ter instaldo o pacote reinicie o jupyter notebook para que ele possa ser identificado."
   ]
  },
  {
   "attachments": {},
   "cell_type": "markdown",
   "metadata": {},
   "source": [
    " ## Imagem 400x400\n",
    " \n",
    " <div style=\"background-color:rgb(50, 50, 10); text-align:center; vertical-align: middle; padding:40px 0;\">\n",
    "<img src=\"tabuleiro.png\"/></div>"
   ]
  }
 ],
 "metadata": {
  "kernelspec": {
   "display_name": "Python 3",
   "language": "python",
   "name": "python3"
  },
  "language_info": {
   "codemirror_mode": {
    "name": "ipython",
    "version": 3
   },
   "file_extension": ".py",
   "mimetype": "text/x-python",
   "name": "python",
   "nbconvert_exporter": "python",
   "pygments_lexer": "ipython3",
   "version": "3.6.5"
  }
 },
 "nbformat": 4,
 "nbformat_minor": 2
}
