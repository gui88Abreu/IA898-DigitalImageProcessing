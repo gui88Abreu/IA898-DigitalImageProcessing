{
 "cells": [
  {
   "cell_type": "markdown",
   "metadata": {},
   "source": [
    "# Ex01 - Aprendendo Numpy\n",
    "\n",
    "1. Exercite o uso do Numpy, através de pequenos exemplos utilizando principalmente a criação de arrays. Testes conceitos vistos nos tutoriais, como: usando os índices de um array, índices negativos, índices bidimensionais, slicing, reshape, transposição. Aproveite para explorar os recursos de documentação do jupyter e explique a medida que for realizando os diversos testes. Exemplo de uma sequência para o exercício:\n",
    "    - crie um array\n",
    "    - acesse elementos, linhas e colunas específicas do array, modificando seus valores\n",
    "    - altere o tamanho do array\n",
    "    - teste operações matriciais com arrays\n",
    "       \n",
    "2. Faça um programa para gerar uma imagem de um tabuleiro de xadrez. Existem várias formas de fazer este programa. Procure evitar o uso de laços explícitos e varreduras pixel-a-pixel.\n",
    "3. Opcional: aumente o xadrez para visualizar o resultado. Veja no exemplo abaixo como visualizar um array."
   ]
  },
  {
   "cell_type": "markdown",
   "metadata": {},
   "source": [
    "### Importando bibliotecas"
   ]
  },
  {
   "cell_type": "code",
   "execution_count": 21,
   "metadata": {},
   "outputs": [],
   "source": [
    "import numpy as np\n",
    "import matplotlib.pyplot as plt #necessario para esbocar as imagens geradas\n",
    "import png #necessario para salvar imagem no formato png"
   ]
  },
  {
   "cell_type": "markdown",
   "metadata": {},
   "source": [
    "### Imagem constante"
   ]
  },
  {
   "cell_type": "code",
   "execution_count": 22,
   "metadata": {},
   "outputs": [
    {
     "name": "stdout",
     "output_type": "stream",
     "text": [
      "Imagem constante:\n",
      " [[1. 1. 1. ... 1. 1. 1.]\n",
      " [1. 1. 1. ... 1. 1. 1.]\n",
      " [1. 1. 1. ... 1. 1. 1.]\n",
      " ...\n",
      " [1. 1. 1. ... 1. 1. 1.]\n",
      " [1. 1. 1. ... 1. 1. 1.]\n",
      " [1. 1. 1. ... 1. 1. 1.]]\n"
     ]
    }
   ],
   "source": [
    "f = np.ones((100,120))\n",
    "print(\"Imagem constante:\\n\",f)"
   ]
  },
  {
   "cell_type": "code",
   "execution_count": 23,
   "metadata": {},
   "outputs": [
    {
     "data": {
      "text/plain": [
       "<matplotlib.colorbar.Colorbar at 0x7fc6f5c31390>"
      ]
     },
     "execution_count": 23,
     "metadata": {},
     "output_type": "execute_result"
    },
    {
     "data": {
      "image/png": "[encoded data removed]",
      "text/plain": [
       "<Figure size 432x288 with 2 Axes>"
      ]
     },
     "metadata": {},
     "output_type": "display_data"
    }
   ],
   "source": [
    "%matplotlib inline\n",
    "\n",
    "plt.title('Constant image')\n",
    "plt.imshow(f, cmap = 'gray', vmin = 0.0, vmax = 1.0)\n",
    "plt.colorbar()"
   ]
  },
  {
   "cell_type": "markdown",
   "metadata": {},
   "source": [
    "### Criando Matrizes"
   ]
  },
  {
   "cell_type": "code",
   "execution_count": 24,
   "metadata": {},
   "outputs": [
    {
     "data": {
      "text/plain": [
       "array([[ 0,  1,  2,  3,  4],\n",
       "       [ 5,  6,  7,  8,  9],\n",
       "       [10, 11, 12, 13, 14],\n",
       "       [15, 16, 17, 18, 19],\n",
       "       [20, 21, 22, 23, 24]])"
      ]
     },
     "execution_count": 24,
     "metadata": {},
     "output_type": "execute_result"
    }
   ],
   "source": [
    "array1 = np.arange(0,25).reshape(5,5)\n",
    "array1"
   ]
  },
  {
   "cell_type": "code",
   "execution_count": 25,
   "metadata": {},
   "outputs": [
    {
     "data": {
      "text/plain": [
       "array([2.  , 2.75, 3.5 , 4.25, 5.  ])"
      ]
     },
     "execution_count": 25,
     "metadata": {},
     "output_type": "execute_result"
    }
   ],
   "source": [
    "array1 = np.linspace(2,5,num=5).round(2) #retorna uma matriz linear de 5 elementos espacados entre 2 e 5\n",
    "array1"
   ]
  },
  {
   "cell_type": "code",
   "execution_count": 26,
   "metadata": {},
   "outputs": [
    {
     "data": {
      "text/plain": [
       "array([[9., 9., 9.],\n",
       "       [9., 9., 9.],\n",
       "       [9., 9., 9.]])"
      ]
     },
     "execution_count": 26,
     "metadata": {},
     "output_type": "execute_result"
    }
   ],
   "source": [
    "array1 = np.ones((3,3))*9\n",
    "array1"
   ]
  },
  {
   "cell_type": "code",
   "execution_count": 27,
   "metadata": {},
   "outputs": [
    {
     "data": {
      "text/plain": [
       "array([[9., 9., 9.],\n",
       "       [9., 9., 9.],\n",
       "       [9., 9., 9.]])"
      ]
     },
     "execution_count": 27,
     "metadata": {},
     "output_type": "execute_result"
    }
   ],
   "source": [
    "array1 = np.zeros((3,3))+9\n",
    "array1"
   ]
  },
  {
   "cell_type": "markdown",
   "metadata": {},
   "source": [
    "### Multiplicando matrizes"
   ]
  },
  {
   "cell_type": "code",
   "execution_count": 28,
   "metadata": {},
   "outputs": [
    {
     "data": {
      "text/plain": [
       "array([[9., 9., 9.],\n",
       "       [9., 9., 9.],\n",
       "       [9., 9., 9.]])"
      ]
     },
     "execution_count": 28,
     "metadata": {},
     "output_type": "execute_result"
    }
   ],
   "source": [
    "array2 = np.identity(3) #matriz identidade\n",
    "np.dot(array1,array2)"
   ]
  },
  {
   "cell_type": "code",
   "execution_count": 29,
   "metadata": {},
   "outputs": [
    {
     "data": {
      "text/plain": [
       "array([[54., 54.],\n",
       "       [54., 54.],\n",
       "       [54., 54.]])"
      ]
     },
     "execution_count": 29,
     "metadata": {},
     "output_type": "execute_result"
    }
   ],
   "source": [
    "array2 = np.ones((3,2))*2\n",
    "np.dot(array1, array2) #aplica a multiplicacao matricial ARRAY x ARRAY"
   ]
  },
  {
   "cell_type": "markdown",
   "metadata": {},
   "source": [
    "### Somando Matrizes"
   ]
  },
  {
   "cell_type": "code",
   "execution_count": 30,
   "metadata": {},
   "outputs": [
    {
     "data": {
      "text/plain": [
       "array([[12., 12., 12.],\n",
       "       [12., 12., 12.],\n",
       "       [12., 12., 12.]])"
      ]
     },
     "execution_count": 30,
     "metadata": {},
     "output_type": "execute_result"
    }
   ],
   "source": [
    "array1 + np.ones((3,3))*3"
   ]
  },
  {
   "cell_type": "markdown",
   "metadata": {},
   "source": [
    "### Colon operator"
   ]
  },
  {
   "cell_type": "code",
   "execution_count": 31,
   "metadata": {},
   "outputs": [
    {
     "data": {
      "text/plain": [
       "array([[ 0,  2,  4],\n",
       "       [ 5,  7,  9],\n",
       "       [10, 12, 14],\n",
       "       [15, 17, 19],\n",
       "       [20, 22, 24]])"
      ]
     },
     "execution_count": 31,
     "metadata": {},
     "output_type": "execute_result"
    }
   ],
   "source": [
    "array1 = np.arange(0,25).reshape(5,5)\n",
    "array1[:, 0::2] #imprime todas as linhas sem imprimir as colunas pares\n",
    "#array1 = np.arange(0,25).reshape(5,5)"
   ]
  },
  {
   "cell_type": "code",
   "execution_count": 32,
   "metadata": {},
   "outputs": [
    {
     "data": {
      "text/plain": [
       "array([[21, 23],\n",
       "       [16, 18],\n",
       "       [11, 13],\n",
       "       [ 6,  8],\n",
       "       [ 1,  3]])"
      ]
     },
     "execution_count": 32,
     "metadata": {},
     "output_type": "execute_result"
    }
   ],
   "source": [
    "array1[-1::-1, 1::2] #imprime todas as linhas no modo descendente sem imprimir as colunas impares"
   ]
  },
  {
   "cell_type": "markdown",
   "metadata": {},
   "source": [
    "# Tabuleiro de Xadrez\n",
    "\n",
    "Para aprimorar as habilidades utilizando **numpy arrays**, foi proposto gerar a imagem de um tabuleiro de xadrez. A minha solução foi gerar um array de 1's e em seguida zerar as posições especificas da matriz para que ela represente o tabuleiro utilizando **colon operator**."
   ]
  },
  {
   "cell_type": "markdown",
   "metadata": {},
   "source": [
    "### Solução para uma Imagem 8x8\n",
    "\n",
    "Abaixo está a solução simplista para uma imagem 8x8."
   ]
  },
  {
   "cell_type": "code",
   "execution_count": 33,
   "metadata": {},
   "outputs": [],
   "source": [
    "height, width = 8, 8\n",
    "\n",
    "gry_scl_img = np.ones((height,width))\n",
    "\n",
    "gry_scl_img[1::2, 0::2] = 0.0\n",
    "gry_scl_img[0::2, 1::2] = 0.0   "
   ]
  },
  {
   "cell_type": "markdown",
   "metadata": {},
   "source": [
    "### Esboço da imagem"
   ]
  },
  {
   "cell_type": "code",
   "execution_count": 34,
   "metadata": {},
   "outputs": [
    {
     "data": {
      "text/plain": [
       "<matplotlib.image.AxesImage at 0x7fc6f5d53860>"
      ]
     },
     "execution_count": 34,
     "metadata": {},
     "output_type": "execute_result"
    },
    {
     "data": {
      "image/png": "[encoded data removed]",
      "text/plain": [
       "<Figure size 432x288 with 1 Axes>"
      ]
     },
     "metadata": {},
     "output_type": "display_data"
    }
   ],
   "source": [
    "%matplotlib inline\n",
    "\n",
    "plt.title('Tabuleiro')\n",
    "plt.imshow(gry_scl_img, cmap = 'gray', vmin = 0.0, vmax = 1.0)"
   ]
  },
  {
   "cell_type": "markdown",
   "metadata": {},
   "source": [
    "### Solução para uma imagem NxM\n",
    "\n",
    "Certamente, em sistemas reais, uma imagem terá uma resolução muito maior que **8x8**. Por isso, logo abaixo está a solução que contempla qualquer resolução **NxM**. Obs: em algumas resoluções a imagem ficará distorcida ou com partes imcompletas, por isso, resoluções com multiplicidade 8 são recomendadas."
   ]
  },
  {
   "cell_type": "code",
   "execution_count": 35,
   "metadata": {},
   "outputs": [],
   "source": [
    "height, width = 400, 400 #define altura e largura da imagem\n",
    "\n",
    "gry_scl_img = np.ones((height, width)) #cria matriz de 1's\n",
    "\n",
    "x_rct = height//8 #encontra a altura do retangulo das posicoes do tabuleiro\n",
    "y_rct = width//8 #encontra a larguara do retangulo das posicoes do tabuleiro\n",
    "\n",
    "#preenche de preto os retangulos necessarios\n",
    "for j in range(0,8,2):\n",
    "    for i in range(0,8,2):\n",
    "        gry_scl_img[(i+1)*x_rct:(i+2)*x_rct, (j)*y_rct:(j+1)*y_rct] = 0\n",
    "        gry_scl_img[(j)*x_rct:(j+1)*x_rct, (i+1)*y_rct:(i+2)*y_rct] = 0"
   ]
  },
  {
   "cell_type": "markdown",
   "metadata": {},
   "source": [
    "### Salvando a imagem do tabuleiro\n",
    "\n",
    "Para de fato gerar uma imagem utilizando numpy arrays é necessário gerar um arquivo que possa ser lido como uma imagem. Para isso, a biblioteca png é uma ferramenta muito útil e muito simples de ser utilizada."
   ]
  },
  {
   "cell_type": "code",
   "execution_count": 36,
   "metadata": {},
   "outputs": [],
   "source": [
    "png_image = open('tabuleiro.png', 'wb')\n",
    "w = png.Writer(width = width, height = height, greyscale=True, bitdepth=1)\n",
    "w.write(png_image, gry_scl_img)\n",
    "png_image.close()"
   ]
  },
  {
   "cell_type": "markdown",
   "metadata": {},
   "source": [
    "Para que o código acima possa ser executado é necessário ter instalado em sua máquina o pacote **pypng**. Para instalá-lo, execute o seguinte comando em um terminal: **pip install png**. Apos ter instaldo o pacote reinicie o jupyter notebook para que ele possa ser identificado."
   ]
  },
  {
   "cell_type": "markdown",
   "metadata": {},
   "source": [
    " ## Imagem 400x400\n",
    " \n",
    " <div style=\"background-color:rgb(50, 50, 10); text-align:center; vertical-align: middle; padding:40px 0;\">\n",
    "<img src=\"tabuleiro.png\"/></div>"
   ]
  }
 ],
 "metadata": {
  "kernelspec": {
   "display_name": "Python 3",
   "language": "python",
   "name": "python3"
  },
  "language_info": {
   "codemirror_mode": {
    "name": "ipython",
    "version": 3
   },
   "file_extension": ".py",
   "mimetype": "text/x-python",
   "name": "python",
   "nbconvert_exporter": "python",
   "pygments_lexer": "ipython3",
   "version": "3.6.5"
  }
 },
 "nbformat": 4,
 "nbformat_minor": 2
}
