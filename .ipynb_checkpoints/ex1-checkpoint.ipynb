{
 "cells": [
  {
   "cell_type": "code",
   "execution_count": 56,
   "metadata": {},
   "outputs": [],
   "source": [
    "import numpy as np\n",
    "\n",
    "lenght, width = 8, 8\n",
    "\n",
    "gry_scl_img = np.ones((lenght,width))\n",
    "\n",
    "gry_scl_img[1:lenght:2, 0:width:2] = 0.0\n",
    "gry_scl_img[0:lenght:2, 1:width:2] = 0.0\n",
    "    "
   ]
  },
  {
   "cell_type": "code",
   "execution_count": 55,
   "metadata": {},
   "outputs": [
    {
     "data": {
      "image/png": "[encoded data removed]",
      "text/plain": [
       "<Figure size 432x288 with 1 Axes>"
      ]
     },
     "metadata": {},
     "output_type": "display_data"
    }
   ],
   "source": [
    "%matplotlib inline\n",
    "import matplotlib.pyplot as plt\n",
    "\n",
    "plt.title('Constant image')\n",
    "plt.imshow(gry_scl_img, cmap = 'gray', vmin = 0.0, vmax = 1.0)\n",
    "plt.savefig('tabuleiro.jpg')"
   ]
  },
  {
   "cell_type": "code",
   "execution_count": 68,
   "metadata": {},
   "outputs": [],
   "source": [
    "length, width = 100, 80\n",
    "\n",
    "gry_scl_img = np.ones((length, width))\n",
    "\n",
    "x_rct = length//8\n",
    "y_rct = width//8\n",
    "\n",
    "for i in range(0,8,2):\n",
    "    gry_scl_img[(i+1)*x_rct:(i+2)*x_rct, i*y_rct:(i+1)*y_rct] = 0\n",
    "    gry_scl_img[i*x_rct:(i+1)*x_rct, (i+1)*y_rct:(i+2)*y_rct] = 0"
   ]
  },
  {
   "cell_type": "code",
   "execution_count": 69,
   "metadata": {},
   "outputs": [
    {
     "data": {
      "image/png": "[encoded data removed]",
      "text/plain": [
       "<Figure size 432x288 with 1 Axes>"
      ]
     },
     "metadata": {},
     "output_type": "display_data"
    }
   ],
   "source": [
    "%matplotlib inline\n",
    "import matplotlib.pyplot as plt\n",
    "\n",
    "plt.title('Constant image')\n",
    "plt.imshow(gry_scl_img, cmap = 'gray', vmin = 0.0, vmax = 1.0)\n",
    "plt.savefig('tabuleiro.jpg')"
   ]
  }
 ],
 "metadata": {
  "kernelspec": {
   "display_name": "Python 3",
   "language": "python",
   "name": "python3"
  },
  "language_info": {
   "codemirror_mode": {
    "name": "ipython",
    "version": 3
   },
   "file_extension": ".py",
   "mimetype": "text/x-python",
   "name": "python",
   "nbconvert_exporter": "python",
   "pygments_lexer": "ipython3",
   "version": "3.6.5"
  }
 },
 "nbformat": 4,
 "nbformat_minor": 2
}
