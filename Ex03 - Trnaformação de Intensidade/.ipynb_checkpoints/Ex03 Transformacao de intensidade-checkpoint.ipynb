{
 "cells": [
  {
   "cell_type": "markdown",
   "metadata": {},
   "source": [
    "# Ex03 - Histograma e Transformações de intensidade\n",
    "\n",
    "Esta atividade tem 2 objetivos principais: \n",
    "    - entender o conceito de histograma e estatísticas da imagem\n",
    "    - explorar várias formas de transformação de intensidade dos pixels. \n",
    "\n",
    "## Parte 1 - Histograma\n",
    "\n",
    "Leia o notebook [Histograma de imagens]('05 Histograma da imagem.ipynb') para entender o conceito de histograma. Além da contagem dos pixels, outras estatísticas podem ser interessantes. Veja abaixo a função h2stats. Ela calcula várias estatísticas da imagem a partir do histograma. Porém, ela foi originalmente desenvolvida para funcionar com a função ia.histogram (antiga toolbox da disciplina)."
   ]
  },
  {
   "cell_type": "code",
   "execution_count": 19,
   "metadata": {},
   "outputs": [],
   "source": [
    "def h2stats(h):\n",
    "    import numpy as np\n",
    "    #import ia898.src as ia\n",
    "\n",
    "    hn = 1.0*h/h.sum() # compute the normalized image histogram\n",
    "    v = np.zeros(6) # number of statistics\n",
    "\n",
    "    # compute statistics\n",
    "    n = len(h) # number of gray values\n",
    "    v[0]  = np.sum((np.arange(n)*hn)) # mean\n",
    "    v[1]  = np.sum(np.power((np.arange(n)-v[0]),2)*hn) # variance\n",
    "    v[2]  = np.sum(np.power((np.arange(n)-v[0]),3)*hn)/(np.power(v[1],1.5))# skewness\n",
    "    v[3]  = np.sum(np.power((np.arange(n)-v[0]),4)*hn)/(np.power(v[1],2))-3# kurtosis\n",
    "    v[4]  = -(hn[hn>0]*np.log(hn[hn>0])).sum() # entropy\n",
    "    v[5]  = np.argmax(h) # mode\n",
    "    return v"
   ]
  },
  {
   "cell_type": "markdown",
   "metadata": {},
   "source": [
    "Vamos agora fazer um teste, calculando o histograma usando a função np.histogram e depois calculando as estatísticas da imagem:"
   ]
  },
  {
   "cell_type": "code",
   "execution_count": 20,
   "metadata": {},
   "outputs": [
    {
     "name": "stdout",
     "output_type": "stream",
     "text": [
      "statistics = [ 5.77777778  7.50617284 -0.51254498 -0.16094616  0.93688831  5.        ]\n"
     ]
    }
   ],
   "source": [
    "import numpy as np\n",
    "f = np.array([1,1,1,0,1,2,2,2,1])\n",
    "h, bins = np.histogram(f)\n",
    "print('statistics =', h2stats(h))"
   ]
  },
  {
   "cell_type": "markdown",
   "metadata": {},
   "source": [
    "Os valores calculados parecem corretos? Vejamos o valor da média, por exemplo, usando a função np.mean:"
   ]
  },
  {
   "cell_type": "code",
   "execution_count": 21,
   "metadata": {},
   "outputs": [
    {
     "name": "stdout",
     "output_type": "stream",
     "text": [
      "1.2222222222222223\n"
     ]
    }
   ],
   "source": [
    "print(np.mean(f))"
   ]
  },
  {
   "cell_type": "markdown",
   "metadata": {},
   "source": [
    "Porque os valores de média calculados pela h2stats (5.7777778) e pela np.mean(1.2222222222) são diferentes? Muito provavelmente o problema é a diferença entre a função ia.histogram e np.histogram. \n",
    "\n",
    "## Exercício 1\n",
    "Pensando que gostaríamos de usar a função h2stats com a função np.histogram, descubram se há uma forma correta de usar a função np.histogram para obter os valores corretos das estatísticas sem alterar a função h2stats. Caso vocês não obtenham sucesso, alterem a função h2stats para que os cálculos fiquem corretos. Testem com arrays numéricos pequenos. Para checar se as estatísticas retornadas estão corretas, usem funções do Numpy e, eventualmente, do Scipy para confirmar (por exemplo: np.mean( ), scipy.stats.skew( )).\n"
   ]
  },
  {
   "cell_type": "markdown",
   "metadata": {},
   "source": [
    "### Solução\n",
    "\n",
    "Para solucionar o problema, devemos observar que a função h2stats espera que o indice do array h corresponda ao valor do elemento com aquela contagem. Por isso, devemos reajustar o array h, passando o numero de valores discretos possíveis para o argumento bins do numpy.histogram. Veja abaixo."
   ]
  },
  {
   "cell_type": "code",
   "execution_count": 22,
   "metadata": {
    "scrolled": true
   },
   "outputs": [
    {
     "name": "stdout",
     "output_type": "stream",
     "text": [
      "statistics=  [ 1.22222222  0.39506173 -0.20992233 -0.62109375  0.93688831  1.        ]\n"
     ]
    }
   ],
   "source": [
    "newh, bins = np.histogram(f, bins=np.max(f)-np.min(f)+1)\n",
    "print(\"statistics= \", h2stats(newh))"
   ]
  },
  {
   "cell_type": "markdown",
   "metadata": {},
   "source": [
    "Para verificar se obtemos o resultado esperado, usamos as bibliotecas numpy e scipy. Repare que para calcular a entropia é necessário passar como argumento o histograma calculado pelo numpy. Leia a documentação do scipy para mais informações."
   ]
  },
  {
   "cell_type": "code",
   "execution_count": 23,
   "metadata": {},
   "outputs": [
    {
     "name": "stdout",
     "output_type": "stream",
     "text": [
      "statistics2 = [ 1.22222222  0.39506173 -0.20992233 -0.62109375  0.93688831  1.        ]\n"
     ]
    }
   ],
   "source": [
    "from scipy import stats\n",
    "\n",
    "statistics2 = np.asarray([np.mean(f),np.var(f),stats.skew(f),stats.kurtosis(f),stats.entropy(newh), stats.mode(f)[0]])\n",
    "print('statistics2 =', statistics2)"
   ]
  },
  {
   "cell_type": "markdown",
   "metadata": {},
   "source": [
    "Testando com um array diferente"
   ]
  },
  {
   "cell_type": "code",
   "execution_count": 24,
   "metadata": {},
   "outputs": [],
   "source": [
    "f = np.array([1,2,2,0,2,8,5,5,1])\n",
    "h, bins = np.histogram(f, bins=np.max(f) -np.min(f))"
   ]
  },
  {
   "cell_type": "code",
   "execution_count": 16,
   "metadata": {},
   "outputs": [
    {
     "name": "stdout",
     "output_type": "stream",
     "text": [
      "statistics = [ 2.88888889  5.87654321  0.87856692 -0.36443401  1.52295507  2.        ]\n"
     ]
    }
   ],
   "source": [
    "newh, bins = np.histogram(f, bins=np.max(f)-np.min(f)+1)\n",
    "print('statistics =', h2stats(newh))"
   ]
  },
  {
   "cell_type": "code",
   "execution_count": 17,
   "metadata": {
    "scrolled": false
   },
   "outputs": [
    {
     "name": "stdout",
     "output_type": "stream",
     "text": [
      "statistics = [ 2.88888889  5.87654321  0.87856692 -0.36443401  1.52295507  2.        ]\n"
     ]
    }
   ],
   "source": [
    "statistics2 = np.asarray([np.mean(f),np.var(f),stats.skew(f),stats.kurtosis(f),stats.entropy(h), stats.mode(f)[0]])\n",
    "print('statistics =', statistics2)"
   ]
  },
  {
   "cell_type": "markdown",
   "metadata": {},
   "source": [
    "## Parte 2 - Transformação de Intensidade\n",
    "\n",
    "É a categoria de funções que apenas alteram o valor do pixel aplicando-se uma função ou tabela de mapeamento. Estudem atentamente os tutoriais sobre Transformada de intensidade e sobre Equalização de histograma. O último tutorial mostra que é possível fazer a equalização da imagem utilizando também o conceito usado para construir um mosaico com tons de cinza igualmente distribuídos."
   ]
  },
  {
   "cell_type": "markdown",
   "metadata": {},
   "source": [
    "## Exercício 2 \n",
    "Exercite transformações de intensidade em uma imagem."
   ]
  },
  {
   "cell_type": "markdown",
   "metadata": {},
   "source": [
    "### Imagem sem tranformações"
   ]
  },
  {
   "cell_type": "code",
   "execution_count": 18,
   "metadata": {},
   "outputs": [
    {
     "ename": "FileNotFoundError",
     "evalue": "[Errno 2] No such file or directory: '../data/lenina.pgm'",
     "output_type": "error",
     "traceback": [
      "\u001b[0;31m---------------------------------------------------------------------------\u001b[0m",
      "\u001b[0;31mFileNotFoundError\u001b[0m                         Traceback (most recent call last)",
      "\u001b[0;32m<ipython-input-18-ae07db2cca5f>\u001b[0m in \u001b[0;36m<module>\u001b[0;34m()\u001b[0m\n\u001b[1;32m      1\u001b[0m \u001b[0;32mfrom\u001b[0m \u001b[0mPIL\u001b[0m \u001b[0;32mimport\u001b[0m \u001b[0mImage\u001b[0m\u001b[0;34m\u001b[0m\u001b[0m\n\u001b[0;32m----> 2\u001b[0;31m \u001b[0mgirl_img\u001b[0m \u001b[0;34m=\u001b[0m \u001b[0mImage\u001b[0m\u001b[0;34m.\u001b[0m\u001b[0mopen\u001b[0m\u001b[0;34m(\u001b[0m\u001b[0;34m\"../data/lenina.pgm\"\u001b[0m\u001b[0;34m)\u001b[0m\u001b[0;34m\u001b[0m\u001b[0m\n\u001b[0m\u001b[1;32m      3\u001b[0m \u001b[0mgirl_img\u001b[0m\u001b[0;34m\u001b[0m\u001b[0m\n",
      "\u001b[0;32m~/anaconda3/lib/python3.6/site-packages/PIL/Image.py\u001b[0m in \u001b[0;36mopen\u001b[0;34m(fp, mode)\u001b[0m\n\u001b[1;32m   2546\u001b[0m \u001b[0;34m\u001b[0m\u001b[0m\n\u001b[1;32m   2547\u001b[0m     \u001b[0;32mif\u001b[0m \u001b[0mfilename\u001b[0m\u001b[0;34m:\u001b[0m\u001b[0;34m\u001b[0m\u001b[0m\n\u001b[0;32m-> 2548\u001b[0;31m         \u001b[0mfp\u001b[0m \u001b[0;34m=\u001b[0m \u001b[0mbuiltins\u001b[0m\u001b[0;34m.\u001b[0m\u001b[0mopen\u001b[0m\u001b[0;34m(\u001b[0m\u001b[0mfilename\u001b[0m\u001b[0;34m,\u001b[0m \u001b[0;34m\"rb\"\u001b[0m\u001b[0;34m)\u001b[0m\u001b[0;34m\u001b[0m\u001b[0m\n\u001b[0m\u001b[1;32m   2549\u001b[0m         \u001b[0mexclusive_fp\u001b[0m \u001b[0;34m=\u001b[0m \u001b[0;32mTrue\u001b[0m\u001b[0;34m\u001b[0m\u001b[0m\n\u001b[1;32m   2550\u001b[0m \u001b[0;34m\u001b[0m\u001b[0m\n",
      "\u001b[0;31mFileNotFoundError\u001b[0m: [Errno 2] No such file or directory: '../data/lenina.pgm'"
     ]
    }
   ],
   "source": [
    "from PIL import Image\n",
    "girl_img = Image.open(\"../data/lenina.pgm\")\n",
    "girl_img"
   ]
  },
  {
   "cell_type": "markdown",
   "metadata": {},
   "source": [
    "### Negativo"
   ]
  },
  {
   "cell_type": "code",
   "execution_count": null,
   "metadata": {},
   "outputs": [],
   "source": [
    "girl_mat = np.asarray(girl_img)\n",
    "\n",
    "T = 255 - np.arange(256, dtype=\"uint8\") #funcao de tranformacao negativo\n",
    "new_mat = T[girl_mat] #aplicando a tranformacao\n",
    "\n",
    "new_img = Image.fromarray(new_mat.astype(\"uint8\"), mode=\"L\")\n",
    "new_img"
   ]
  },
  {
   "cell_type": "markdown",
   "metadata": {},
   "source": [
    "### Aumento do Brilho"
   ]
  },
  {
   "cell_type": "code",
   "execution_count": null,
   "metadata": {},
   "outputs": [],
   "source": [
    "T = np.arange(256)\n",
    "T, T[T > 255] = T + 100, 255 #offset de 100 em cada pixel e evita a saturacao\n",
    "\n",
    "new_mat = T[girl_mat]\n",
    "new_img = Image.fromarray(new_mat.astype(\"uint8\"), mode=\"L\")\n",
    "new_img"
   ]
  },
  {
   "cell_type": "markdown",
   "metadata": {},
   "source": [
    "### Decremento do Brilho"
   ]
  },
  {
   "cell_type": "code",
   "execution_count": null,
   "metadata": {
    "scrolled": true
   },
   "outputs": [],
   "source": [
    "T = np.arange(256, dtype=\"int16\")\n",
    "T, T[T < 0] = T - 100, 0 #decrescimo de 100 em cada pixel\n",
    "\n",
    "new_mat = T[girl_mat]\n",
    "new_img = Image.fromarray(new_mat.astype(\"uint8\"), mode=\"L\")\n",
    "new_img"
   ]
  },
  {
   "cell_type": "markdown",
   "metadata": {},
   "source": [
    "### Correção Gama"
   ]
  },
  {
   "cell_type": "code",
   "execution_count": null,
   "metadata": {},
   "outputs": [],
   "source": [
    "eye_img = Image.open(\"../data/retina.tif\")\n",
    "eye_mat = np.asarray(eye_img, dtype=\"uint8\")\n",
    "eye_img"
   ]
  },
  {
   "cell_type": "code",
   "execution_count": null,
   "metadata": {},
   "outputs": [],
   "source": [
    "T = np.arange(256, dtype=\"int32\")\n",
    "\n",
    "gama = 2.0 # se > 1, aumenta gama. se < 1 diminui gama\n",
    "T = 255*((T/255)**(1/gama))\n",
    " \n",
    "new_mat = T[eye_mat]\n",
    "new_img = Image.fromarray(new_mat.astype(\"uint8\"), mode=\"L\")\n",
    "new_img"
   ]
  },
  {
   "cell_type": "markdown",
   "metadata": {},
   "source": [
    "## Exercício 3\n",
    "Veja a imagem abaixo. Escolha um valor de limiar (threshold) para separar as bolachas do fundo da imagem. Dica: Visualize o histograma da imagem para escolher o valor. Crie primeiro uma função de transformação T e depois aplique esta transformação para obter o objeto de interesse (cookies) pintados de branco e o fundo em preto."
   ]
  },
  {
   "cell_type": "code",
   "execution_count": null,
   "metadata": {},
   "outputs": [],
   "source": [
    "import numpy as np\n",
    "import matplotlib.image as mpimg\n",
    "import matplotlib.pyplot as plt\n",
    "\n",
    "%matplotlib inline\n",
    "f = mpimg.imread('../figures/cookies.pgm')  \n",
    "plt.imshow(f,cmap='gray')"
   ]
  },
  {
   "cell_type": "code",
   "execution_count": null,
   "metadata": {},
   "outputs": [],
   "source": [
    "cookie_mat = np.asarray(Image.open(\"../figures/cookies.pgm\"), dtype=\"uint8\")\n",
    "\n",
    "hist, bins = np.histogram(cookie_mat)\n",
    "plt.hist(hist, bins=bins)\n",
    "plt.title(\"Cookie Histogram\")\n",
    "plt.show()"
   ]
  },
  {
   "cell_type": "code",
   "execution_count": null,
   "metadata": {},
   "outputs": [],
   "source": [
    "T = np.zeros(256)\n",
    "T[70:] = 255\n",
    "g = T[cookie_mat]\n",
    "Image.fromarray(g.astype(\"uint8\"))"
   ]
  },
  {
   "cell_type": "markdown",
   "metadata": {},
   "source": [
    "## Exercício 4\n",
    "Você é capaz de transformar a imagem para identificar o número da placa do carro apresentado na imagem abaixo? "
   ]
  },
  {
   "cell_type": "code",
   "execution_count": null,
   "metadata": {},
   "outputs": [],
   "source": [
    "f = mpimg.imread('../figures/fusca.png')  \n",
    "plt.imshow(f,cmap='gray')"
   ]
  },
  {
   "cell_type": "markdown",
   "metadata": {},
   "source": [
    "### Solução\n",
    "\n",
    "A tranformação de correção gama, para um gama maior que 1, aumenta o brilho nas regiões mais escuras. Observando a imagem dada, vemos que essa tranformação se parece bastante apropriada. Aplicando-a obtemos o seguinte resultado."
   ]
  },
  {
   "cell_type": "code",
   "execution_count": null,
   "metadata": {},
   "outputs": [],
   "source": [
    "kafer_mat = np.asarray(Image.open(\"../figures/fusca.png\"), dtype=\"uint8\")"
   ]
  },
  {
   "cell_type": "code",
   "execution_count": null,
   "metadata": {},
   "outputs": [],
   "source": [
    "T = np.arange(256, dtype=\"int32\")\n",
    "gama = 3.0 # gama = 3 obteve um excelente resultado\n",
    "T = 255*((T/255)**(1/gama))\n",
    "\n",
    "new_mat = T[kafer_mat]\n",
    "new_img = Image.fromarray(new_mat.astype(\"uint8\"), mode=\"L\")\n",
    "new_img"
   ]
  },
  {
   "cell_type": "markdown",
   "metadata": {
    "collapsed": true
   },
   "source": [
    "## Exercício 5\n",
    "Escreva uma função que implemente a tranformação de brilho e contraste de uma imagem em níveis de cinza, baseada na construçao de três segmentos de retas:\n",
    "\n",
    "- Primeiro segmento de reta: 'x' de '0' a 'x1', com angulo 'alpha';\n",
    "- Segundo segmento de reta: 'x' de 'x1' a 'x2', com angulo 'beta';\n",
    "- Terceiro segmento de reta: 'x' de 'x2' a '255';\n",
    "- Retorno: mapeamento de brilho & contraste da 'imagem' de entrada.\n"
   ]
  },
  {
   "cell_type": "code",
   "execution_count": null,
   "metadata": {
    "scrolled": false
   },
   "outputs": [],
   "source": [
    "from PIL import Image\n",
    "ang = Image.open('../figures/bc_angulos.png')\n",
    "ang"
   ]
  },
  {
   "cell_type": "markdown",
   "metadata": {},
   "source": [
    "Dicas:\n",
    "\n",
    "- Determine *y1* e *y2* a partir de *alpha* e *beta*.\n",
    "- Utilize a equação da reta, tendo dois pontos conhecidos *(xa,ya)* e *(xb,yb)*, para cada trecho de reta\n",
    "\n"
   ]
  },
  {
   "cell_type": "markdown",
   "metadata": {},
   "source": [
    "### Solução\n",
    "\n",
    "Aqui, alpha, beta e zeta correspondem às tangentes dos ângulos das retas."
   ]
  },
  {
   "cell_type": "code",
   "execution_count": null,
   "metadata": {},
   "outputs": [],
   "source": [
    "def transfTo3Segm(funcao, x1 = 50, x2 = 150, alpha = 1, beta = 1):\n",
    "    import numpy as np\n",
    "    \n",
    "    straight1 = np.arange(256, dtype=\"float32\")*alpha # reta 1\n",
    "    straight1 = straight1.astype(\"uint32\") \n",
    "    \n",
    "    straight2 = np.arange(256, dtype=\"float32\")*beta # reta 2\n",
    "    straight2 = straight2.astype(\"uint32\")\n",
    "    \n",
    "    straight1[x1:x2] = straight2[:x2-x1] + straight1[x1] # cola a primeira reta na segunda\n",
    "    \n",
    "    zeta = (255 -straight1[x2-1])/(255 - x2) # encontra coeficiente da ultima reta\n",
    "    \n",
    "    straight3 = np.arange(256, dtype=\"float32\")*zeta # reta 3\n",
    "    straight3 = straight3.astype(\"uint32\")\n",
    "    \n",
    "    straight1[x2:] = straight3[:256-x2] + straight1[x2-1] # cola a ultima reta nas outras duas\n",
    "    \n",
    "    straight1[straight1 > 255] = 255 # corrige valores inexistentes\n",
    "    \n",
    "    return [straight1[funcao], straight1]\n",
    "\n",
    "f = np.arange(256)\n",
    "g, T = transfTo3Segm(f, alpha = 1.2, beta=0.5)"
   ]
  },
  {
   "cell_type": "markdown",
   "metadata": {},
   "source": [
    "### Aplicando a transformação"
   ]
  },
  {
   "cell_type": "markdown",
   "metadata": {},
   "source": [
    "Imagem sem a transformação"
   ]
  },
  {
   "cell_type": "code",
   "execution_count": null,
   "metadata": {
    "scrolled": true
   },
   "outputs": [],
   "source": [
    "eye_img"
   ]
  },
  {
   "cell_type": "code",
   "execution_count": null,
   "metadata": {},
   "outputs": [],
   "source": [
    "g, T = transfTo3Segm(eye_mat, alpha = 3, beta=1)"
   ]
  },
  {
   "cell_type": "code",
   "execution_count": null,
   "metadata": {},
   "outputs": [],
   "source": [
    "import matplotlib.pyplot as plt\n",
    "plt.plot(T)\n",
    "plt.title(\"Transformation 3 straight segments\")\n",
    "plt.show()"
   ]
  },
  {
   "cell_type": "markdown",
   "metadata": {},
   "source": [
    "Após a tranformação do gráfico acima"
   ]
  },
  {
   "cell_type": "code",
   "execution_count": null,
   "metadata": {},
   "outputs": [],
   "source": [
    "Image.fromarray(g.astype(\"uint8\"), mode=\"L\")"
   ]
  }
 ],
 "metadata": {
  "kernelspec": {
   "display_name": "Python 3",
   "language": "python",
   "name": "python3"
  },
  "language_info": {
   "codemirror_mode": {
    "name": "ipython",
    "version": 3
   },
   "file_extension": ".py",
   "mimetype": "text/x-python",
   "name": "python",
   "nbconvert_exporter": "python",
   "pygments_lexer": "ipython3",
   "version": "3.6.5"
  }
 },
 "nbformat": 4,
 "nbformat_minor": 2
}
